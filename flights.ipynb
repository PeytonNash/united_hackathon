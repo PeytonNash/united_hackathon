{
 "cells": [
  {
   "cell_type": "code",
   "execution_count": 79,
   "metadata": {},
   "outputs": [],
   "source": [
    "import requests\n",
    "import pandas as pd\n",
    "import numpy as np\n",
    "import random"
   ]
  },
  {
   "cell_type": "code",
   "execution_count": null,
   "metadata": {},
   "outputs": [],
   "source": [
    "api_key = ''"
   ]
  },
  {
   "cell_type": "code",
   "execution_count": 16,
   "metadata": {},
   "outputs": [],
   "source": [
    "url_flights = 'https://api.aviationstack.com/v1/flights'\n",
    "params_flights = {\n",
    "    'access_key':api_key,\n",
    "    'airline_iata':'UA'\n",
    "}\n",
    "\n",
    "api_result_flights = requests.get(url_flights, params_flights)"
   ]
  },
  {
   "cell_type": "code",
   "execution_count": 72,
   "metadata": {},
   "outputs": [
    {
     "name": "stdout",
     "output_type": "stream",
     "text": [
      "0\n",
      "100\n",
      "200\n",
      "300\n",
      "400\n",
      "500\n",
      "600\n",
      "700\n",
      "800\n",
      "900\n",
      "1000\n"
     ]
    }
   ],
   "source": [
    "# Pull 1000 flights\n",
    "flights = []\n",
    "for i in range(11):\n",
    "    print(i*100)\n",
    "    offset = i*100\n",
    "    params_flights = {\n",
    "        'access_key':api_key,\n",
    "        'airline_iata':'UA',\n",
    "        'offset':offset\n",
    "    }\n",
    "\n",
    "    api_result_flights = requests.get(url_flights, params_flights)\n",
    "    api_response_flights = api_result_flights.json()\n",
    "    flights.append(api_response_flights['data'])\n"
   ]
  },
  {
   "cell_type": "code",
   "execution_count": null,
   "metadata": {},
   "outputs": [],
   "source": [
    "# Combine all flight data into a single object\n",
    "flights_long = []\n",
    "for i, call in enumerate(flights[0:]):\n",
    "    flights_long = flights_long + call\n",
    "\n",
    "# flatten\n",
    "flights_flat = pd.json_normalize(flights_long)"
   ]
  },
  {
   "cell_type": "code",
   "execution_count": 114,
   "metadata": {},
   "outputs": [],
   "source": [
    "empty_seats = pd.DataFrame([random.randint(0, 15) for _ in range(len(flights_flat))], columns=['empty_seats'])"
   ]
  },
  {
   "cell_type": "code",
   "execution_count": 127,
   "metadata": {},
   "outputs": [],
   "source": [
    "df = pd.concat([flights_flat, empty_seats], axis=1)\n",
    "\n",
    "keep = df.columns[~df.columns.str.contains('flight.codeshared.|aircraft.|live.', regex=True)]\n",
    "df_clean = df[keep][df['departure.icao'].str.contains('^K|^PA|^PO|^PP')]"
   ]
  },
  {
   "cell_type": "code",
   "execution_count": null,
   "metadata": {},
   "outputs": [],
   "source": [
    "df.to_csv('flights.csv')"
   ]
  }
 ],
 "metadata": {
  "kernelspec": {
   "display_name": "base",
   "language": "python",
   "name": "python3"
  },
  "language_info": {
   "codemirror_mode": {
    "name": "ipython",
    "version": 3
   },
   "file_extension": ".py",
   "mimetype": "text/x-python",
   "name": "python",
   "nbconvert_exporter": "python",
   "pygments_lexer": "ipython3",
   "version": "3.12.2"
  }
 },
 "nbformat": 4,
 "nbformat_minor": 2
}
