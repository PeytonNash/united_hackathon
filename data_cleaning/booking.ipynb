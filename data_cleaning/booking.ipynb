{
 "cells": [
  {
   "cell_type": "code",
   "execution_count": 40,
   "metadata": {},
   "outputs": [],
   "source": [
    "import pandas as pd\n",
    "import random\n",
    "import string"
   ]
  },
  {
   "cell_type": "code",
   "execution_count": 63,
   "metadata": {},
   "outputs": [],
   "source": [
    "flights = pd.read_csv('data/flights.csv').iloc[:, 1:]\n",
    "customers = pd.read_csv('data/united_customers_synthetic.csv')"
   ]
  },
  {
   "cell_type": "code",
   "execution_count": 65,
   "metadata": {},
   "outputs": [],
   "source": [
    "flight_numbers = flights['flight_iata']\n",
    "customer_ids = customers['customer_id']"
   ]
  },
  {
   "cell_type": "code",
   "execution_count": 68,
   "metadata": {},
   "outputs": [],
   "source": [
    "# Randomly pair customers with bookings\n",
    "bookings = []\n",
    "for id in customer_ids:\n",
    "    flight = random.choices(list(flight_numbers), k=1)[0]\n",
    "    pair = [id, flight]\n",
    "    bookings.append(pair)\n",
    "df_bookings = pd.DataFrame(bookings, columns = ['customer_id', 'flight.iata'])\n",
    "\n",
    "# Randomly generate number of people in a party\n",
    "n_party = [random.randint(1, 4) for _ in range(len(df_bookings))]\n",
    "df_n_party = pd.DataFrame(n_party, columns = ['n_party'])\n",
    "\n",
    "# Randomly generate confirmation codes\n",
    "characters = string.ascii_uppercase + string.digits\n",
    "codes = set()\n",
    "while len(codes) < len(bookings):\n",
    "    random_string = ''.join(random.choice(characters) for _ in range(5))\n",
    "    codes.add(random_string)\n",
    "df_codes = pd.DataFrame(codes, columns = ['conf_code'])\n",
    "\n",
    "# Combine columns\n",
    "df = pd.concat([df_bookings, df_n_party, df_codes], axis=1)"
   ]
  },
  {
   "cell_type": "code",
   "execution_count": 69,
   "metadata": {},
   "outputs": [
    {
     "data": {
      "text/html": [
       "<div>\n",
       "<style scoped>\n",
       "    .dataframe tbody tr th:only-of-type {\n",
       "        vertical-align: middle;\n",
       "    }\n",
       "\n",
       "    .dataframe tbody tr th {\n",
       "        vertical-align: top;\n",
       "    }\n",
       "\n",
       "    .dataframe thead th {\n",
       "        text-align: right;\n",
       "    }\n",
       "</style>\n",
       "<table border=\"1\" class=\"dataframe\">\n",
       "  <thead>\n",
       "    <tr style=\"text-align: right;\">\n",
       "      <th></th>\n",
       "      <th>customer_id</th>\n",
       "      <th>flight.iata</th>\n",
       "      <th>n_party</th>\n",
       "      <th>conf_code</th>\n",
       "    </tr>\n",
       "  </thead>\n",
       "  <tbody>\n",
       "    <tr>\n",
       "      <th>0</th>\n",
       "      <td>CUST00000</td>\n",
       "      <td>UA5392</td>\n",
       "      <td>1</td>\n",
       "      <td>2Q2Z3</td>\n",
       "    </tr>\n",
       "    <tr>\n",
       "      <th>1</th>\n",
       "      <td>CUST00001</td>\n",
       "      <td>UA1337</td>\n",
       "      <td>3</td>\n",
       "      <td>L8M2A</td>\n",
       "    </tr>\n",
       "    <tr>\n",
       "      <th>2</th>\n",
       "      <td>CUST00002</td>\n",
       "      <td>UA4599</td>\n",
       "      <td>2</td>\n",
       "      <td>ZQB5R</td>\n",
       "    </tr>\n",
       "    <tr>\n",
       "      <th>3</th>\n",
       "      <td>CUST00003</td>\n",
       "      <td>UA663</td>\n",
       "      <td>2</td>\n",
       "      <td>ZCNFD</td>\n",
       "    </tr>\n",
       "    <tr>\n",
       "      <th>4</th>\n",
       "      <td>CUST00004</td>\n",
       "      <td>UA2426</td>\n",
       "      <td>3</td>\n",
       "      <td>AZ5JK</td>\n",
       "    </tr>\n",
       "  </tbody>\n",
       "</table>\n",
       "</div>"
      ],
      "text/plain": [
       "  customer_id flight.iata  n_party conf_code\n",
       "0   CUST00000      UA5392        1     2Q2Z3\n",
       "1   CUST00001      UA1337        3     L8M2A\n",
       "2   CUST00002      UA4599        2     ZQB5R\n",
       "3   CUST00003       UA663        2     ZCNFD\n",
       "4   CUST00004      UA2426        3     AZ5JK"
      ]
     },
     "execution_count": 69,
     "metadata": {},
     "output_type": "execute_result"
    }
   ],
   "source": [
    "df.head()"
   ]
  },
  {
   "cell_type": "code",
   "execution_count": null,
   "metadata": {},
   "outputs": [],
   "source": [
    "df.to_csv('../data/bookings.csv')"
   ]
  }
 ],
 "metadata": {
  "kernelspec": {
   "display_name": "base",
   "language": "python",
   "name": "python3"
  },
  "language_info": {
   "codemirror_mode": {
    "name": "ipython",
    "version": 3
   },
   "file_extension": ".py",
   "mimetype": "text/x-python",
   "name": "python",
   "nbconvert_exporter": "python",
   "pygments_lexer": "ipython3",
   "version": "3.12.2"
  }
 },
 "nbformat": 4,
 "nbformat_minor": 2
}
