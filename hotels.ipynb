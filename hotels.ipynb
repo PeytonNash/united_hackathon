{
 "cells": [
  {
   "cell_type": "code",
   "execution_count": 8,
   "metadata": {},
   "outputs": [],
   "source": [
    "import pandas as pd\n",
    "import random\n",
    "import numpy as np"
   ]
  },
  {
   "cell_type": "code",
   "execution_count": 6,
   "metadata": {},
   "outputs": [],
   "source": [
    "airport_list = pd.read_csv('data/flights.csv')['departure_iata'].unique()\n",
    "hotels_list = ['AC Hotels by Marriott', 'aloft', 'Autograph Collection Hotels', 'Apartments by Marriott Bonvoy', 'City Express Hotels by Marriott Bonvoy', 'Courtyard by Marriott', 'Delta Hotels', 'Design Hotels', 'EDITION', 'element by Westin', 'Fairfield Inn by Marriott', 'Four Points by Sheraton', 'Four Points Express by Sheraton', 'Gaylord Hotels', 'JW Marriott Hotels & Resorts', 'Le Meridien', 'The Luxury Collection', 'Marriott Hotels & Resorts', 'MGM Collection with Marriott Bonvoy', 'Moxy Hotels', 'Protea Hotels', 'Renaissance Hotels', 'Residence Inn by Marriott', 'The Ritz-Carlton', 'Sheraton Hotels & Resorts', 'SpringHill Suites by Marriott', 'St. Regis Hotels & Resorts', 'TownePlace Suites by Marriott', 'Tribute Portfolio', 'W Hotels', 'Westin Hotels & Resorts', 'AmericInn® by Wyndham', 'Baymont® by Wyndham', 'Days Inn® by Wyndham', 'Dazzler® by Wyndham', 'Dolce Hotels and Resorts® by Wyndham', 'Esplendor® Boutique Hotels by Wyndham', 'Hawthorn Suites® by Wyndham', 'Howard Johnson® by Wyndham', 'La Quinta® by Wyndham', 'Microtel® by Wyndham', 'Ramada® by Wyndham', 'Super 8® by Wyndham', 'Trademark Collection® by Wyndham', 'Travelodge® by Wyndham', 'Wingate® by Wyndham', 'Wyndham Garden®', 'Wyndham Grand®', 'Wyndham®', 'Atwell Suites', 'Avid Hotels', 'Candlewood Suites', 'Crowne Plaza Hotels & Resorts', 'Even', 'Holiday Inn Club Vacations', 'Holiday Inn Express', 'Holiday Inn Hotels & Resorts', 'Hotel Indigo', 'Hualuxe Hotels & Resorts', 'InterContinental Hotels & Resorts', 'Kimpton Hotels & Restaurants', 'Regent', 'Six Senses', 'Staybridge Suites', 'Vignette Collection', 'VOCO', 'Andaz (Hyatt)', 'Grand Hyatt', 'Hyatt Centric', 'Hyatt Hotels & Resorts', 'Hyatt House', 'Hyatt Place', 'Hyatt Regency', 'Hyatt Zilara', 'Hyatt Ziva', 'Park Hyatt Hotels', 'Unbound Collection']\n",
    "hotels_list = [item.replace('®','') for item in hotels_list]"
   ]
  },
  {
   "cell_type": "code",
   "execution_count": 20,
   "metadata": {},
   "outputs": [],
   "source": [
    "hotels = []\n",
    "for airport in airport_list:\n",
    "    n_hotels = random.randint(6, 20)\n",
    "    for i in range(n_hotels):\n",
    "        hotel = random.choice(hotels_list)\n",
    "        stars = random.randint(1, 5)\n",
    "        rooms_available = random.randint(0, 20)\n",
    "        distance = random.gauss(4, .5)\n",
    "        distance_pos = np.where(distance < 0, distance*-1, distance)\n",
    "        hotels.append([airport, hotel, stars, distance, rooms_available])\n"
   ]
  },
  {
   "cell_type": "code",
   "execution_count": 24,
   "metadata": {},
   "outputs": [
    {
     "data": {
      "text/html": [
       "<div>\n",
       "<style scoped>\n",
       "    .dataframe tbody tr th:only-of-type {\n",
       "        vertical-align: middle;\n",
       "    }\n",
       "\n",
       "    .dataframe tbody tr th {\n",
       "        vertical-align: top;\n",
       "    }\n",
       "\n",
       "    .dataframe thead th {\n",
       "        text-align: right;\n",
       "    }\n",
       "</style>\n",
       "<table border=\"1\" class=\"dataframe\">\n",
       "  <thead>\n",
       "    <tr style=\"text-align: right;\">\n",
       "      <th></th>\n",
       "      <th>airport_iata</th>\n",
       "      <th>hotel_name</th>\n",
       "      <th>stars</th>\n",
       "      <th>distance</th>\n",
       "      <th>rooms_available</th>\n",
       "    </tr>\n",
       "  </thead>\n",
       "  <tbody>\n",
       "    <tr>\n",
       "      <th>0</th>\n",
       "      <td>SFO</td>\n",
       "      <td>Trademark Collection by Wyndham</td>\n",
       "      <td>2</td>\n",
       "      <td>4.174940</td>\n",
       "      <td>2</td>\n",
       "    </tr>\n",
       "    <tr>\n",
       "      <th>1</th>\n",
       "      <td>SFO</td>\n",
       "      <td>Ramada by Wyndham</td>\n",
       "      <td>5</td>\n",
       "      <td>3.526426</td>\n",
       "      <td>18</td>\n",
       "    </tr>\n",
       "    <tr>\n",
       "      <th>2</th>\n",
       "      <td>SFO</td>\n",
       "      <td>Microtel by Wyndham</td>\n",
       "      <td>3</td>\n",
       "      <td>3.525406</td>\n",
       "      <td>2</td>\n",
       "    </tr>\n",
       "    <tr>\n",
       "      <th>3</th>\n",
       "      <td>SFO</td>\n",
       "      <td>Residence Inn by Marriott</td>\n",
       "      <td>3</td>\n",
       "      <td>4.349559</td>\n",
       "      <td>4</td>\n",
       "    </tr>\n",
       "    <tr>\n",
       "      <th>4</th>\n",
       "      <td>SFO</td>\n",
       "      <td>Gaylord Hotels</td>\n",
       "      <td>2</td>\n",
       "      <td>4.009907</td>\n",
       "      <td>7</td>\n",
       "    </tr>\n",
       "  </tbody>\n",
       "</table>\n",
       "</div>"
      ],
      "text/plain": [
       "  airport_iata                       hotel_name  stars  distance  \\\n",
       "0          SFO  Trademark Collection by Wyndham      2  4.174940   \n",
       "1          SFO                Ramada by Wyndham      5  3.526426   \n",
       "2          SFO              Microtel by Wyndham      3  3.525406   \n",
       "3          SFO        Residence Inn by Marriott      3  4.349559   \n",
       "4          SFO                   Gaylord Hotels      2  4.009907   \n",
       "\n",
       "   rooms_available  \n",
       "0                2  \n",
       "1               18  \n",
       "2                2  \n",
       "3                4  \n",
       "4                7  "
      ]
     },
     "execution_count": 24,
     "metadata": {},
     "output_type": "execute_result"
    }
   ],
   "source": [
    "df = pd.DataFrame(hotels, columns=['airport_iata', 'hotel_name', 'stars', 'distance', 'rooms_available'])\n",
    "df.head()"
   ]
  },
  {
   "cell_type": "code",
   "execution_count": 26,
   "metadata": {},
   "outputs": [],
   "source": [
    "df.to_csv('data/hotels.csv')"
   ]
  }
 ],
 "metadata": {
  "kernelspec": {
   "display_name": "base",
   "language": "python",
   "name": "python3"
  },
  "language_info": {
   "codemirror_mode": {
    "name": "ipython",
    "version": 3
   },
   "file_extension": ".py",
   "mimetype": "text/x-python",
   "name": "python",
   "nbconvert_exporter": "python",
   "pygments_lexer": "ipython3",
   "version": "3.12.2"
  }
 },
 "nbformat": 4,
 "nbformat_minor": 2
}
