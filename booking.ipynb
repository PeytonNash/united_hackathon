{
 "cells": [
  {
   "cell_type": "code",
   "execution_count": 40,
   "metadata": {},
   "outputs": [],
   "source": [
    "import pandas as pd\n",
    "import random\n",
    "import string"
   ]
  },
  {
   "cell_type": "code",
   "execution_count": 7,
   "metadata": {},
   "outputs": [],
   "source": [
    "flights = pd.read_csv('data/flights.csv').iloc[:, 1:]\n",
    "customers = pd.read_csv('data/united_customers_synthetic.csv')"
   ]
  },
  {
   "cell_type": "code",
   "execution_count": 27,
   "metadata": {},
   "outputs": [],
   "source": [
    "flight_numbers = flights['flight.iata']\n",
    "customer_ids = customers['customer_id']"
   ]
  },
  {
   "cell_type": "code",
   "execution_count": 31,
   "metadata": {},
   "outputs": [
    {
     "data": {
      "text/html": [
       "<div>\n",
       "<style scoped>\n",
       "    .dataframe tbody tr th:only-of-type {\n",
       "        vertical-align: middle;\n",
       "    }\n",
       "\n",
       "    .dataframe tbody tr th {\n",
       "        vertical-align: top;\n",
       "    }\n",
       "\n",
       "    .dataframe thead th {\n",
       "        text-align: right;\n",
       "    }\n",
       "</style>\n",
       "<table border=\"1\" class=\"dataframe\">\n",
       "  <thead>\n",
       "    <tr style=\"text-align: right;\">\n",
       "      <th></th>\n",
       "      <th>flight_date</th>\n",
       "      <th>flight_status</th>\n",
       "      <th>aircraft</th>\n",
       "      <th>live</th>\n",
       "      <th>departure.airport</th>\n",
       "      <th>departure.timezone</th>\n",
       "      <th>departure.iata</th>\n",
       "      <th>departure.icao</th>\n",
       "      <th>departure.terminal</th>\n",
       "      <th>departure.gate</th>\n",
       "      <th>...</th>\n",
       "      <th>aircraft.icao24</th>\n",
       "      <th>live.updated</th>\n",
       "      <th>live.latitude</th>\n",
       "      <th>live.longitude</th>\n",
       "      <th>live.altitude</th>\n",
       "      <th>live.direction</th>\n",
       "      <th>live.speed_horizontal</th>\n",
       "      <th>live.speed_vertical</th>\n",
       "      <th>live.is_ground</th>\n",
       "      <th>empty_seats</th>\n",
       "    </tr>\n",
       "  </thead>\n",
       "  <tbody>\n",
       "    <tr>\n",
       "      <th>72</th>\n",
       "      <td>2025-06-20</td>\n",
       "      <td>scheduled</td>\n",
       "      <td>NaN</td>\n",
       "      <td>NaN</td>\n",
       "      <td>Saltillo</td>\n",
       "      <td>America/Monterrey</td>\n",
       "      <td>SLW</td>\n",
       "      <td>MMIO</td>\n",
       "      <td>NaN</td>\n",
       "      <td>NaN</td>\n",
       "      <td>...</td>\n",
       "      <td>NaN</td>\n",
       "      <td>NaN</td>\n",
       "      <td>NaN</td>\n",
       "      <td>NaN</td>\n",
       "      <td>NaN</td>\n",
       "      <td>NaN</td>\n",
       "      <td>NaN</td>\n",
       "      <td>NaN</td>\n",
       "      <td>NaN</td>\n",
       "      <td>6</td>\n",
       "    </tr>\n",
       "  </tbody>\n",
       "</table>\n",
       "<p>1 rows × 55 columns</p>\n",
       "</div>"
      ],
      "text/plain": [
       "   flight_date flight_status  aircraft  live departure.airport  \\\n",
       "72  2025-06-20     scheduled       NaN   NaN          Saltillo   \n",
       "\n",
       "   departure.timezone departure.iata departure.icao departure.terminal  \\\n",
       "72  America/Monterrey            SLW           MMIO                NaN   \n",
       "\n",
       "   departure.gate  ...  aircraft.icao24 live.updated live.latitude  \\\n",
       "72            NaN  ...              NaN          NaN           NaN   \n",
       "\n",
       "   live.longitude live.altitude live.direction live.speed_horizontal  \\\n",
       "72            NaN           NaN            NaN                   NaN   \n",
       "\n",
       "   live.speed_vertical live.is_ground empty_seats  \n",
       "72                 NaN            NaN           6  \n",
       "\n",
       "[1 rows x 55 columns]"
      ]
     },
     "execution_count": 31,
     "metadata": {},
     "output_type": "execute_result"
    }
   ],
   "source": [
    "flights[flights['flight.iata'] == 'UA']"
   ]
  },
  {
   "cell_type": "code",
   "execution_count": 58,
   "metadata": {},
   "outputs": [],
   "source": [
    "# Randomly pair customers with bookings\n",
    "bookings = []\n",
    "for id in customer_ids:\n",
    "    flight = random.choices(list(flight_numbers), k=1)[0]\n",
    "    pair = [id, flight]\n",
    "    bookings.append(pair)\n",
    "df_bookings = pd.DataFrame(bookings, columns = ['customer_id', 'flight.iata'])\n",
    "\n",
    "# Randomly generate number of people in a party\n",
    "n_party = [random.randint(1, 4) for _ in range(len(df_bookings))]\n",
    "df_n_party = pd.DataFrame(n_party, columns = ['n_party'])\n",
    "\n",
    "# Randomly generate confirmation codes\n",
    "characters = string.ascii_uppercase + string.digits\n",
    "codes = set()\n",
    "while len(codes) < len(bookings):\n",
    "    random_string = ''.join(random.choice(characters) for _ in range(5))\n",
    "    codes.add(random_string)\n",
    "df_codes = pd.DataFrame(codes, columns = ['conf_code'])\n",
    "\n",
    "# Combine columns\n",
    "df = pd.concat([df_bookings, df_n_party, df_codes], axis=1)"
   ]
  },
  {
   "cell_type": "code",
   "execution_count": 59,
   "metadata": {},
   "outputs": [
    {
     "data": {
      "text/html": [
       "<div>\n",
       "<style scoped>\n",
       "    .dataframe tbody tr th:only-of-type {\n",
       "        vertical-align: middle;\n",
       "    }\n",
       "\n",
       "    .dataframe tbody tr th {\n",
       "        vertical-align: top;\n",
       "    }\n",
       "\n",
       "    .dataframe thead th {\n",
       "        text-align: right;\n",
       "    }\n",
       "</style>\n",
       "<table border=\"1\" class=\"dataframe\">\n",
       "  <thead>\n",
       "    <tr style=\"text-align: right;\">\n",
       "      <th></th>\n",
       "      <th>customer_id</th>\n",
       "      <th>flight.iata</th>\n",
       "      <th>n_party</th>\n",
       "      <th>conf_code</th>\n",
       "    </tr>\n",
       "  </thead>\n",
       "  <tbody>\n",
       "    <tr>\n",
       "      <th>0</th>\n",
       "      <td>CUST00000</td>\n",
       "      <td>UA6192</td>\n",
       "      <td>4</td>\n",
       "      <td>0O0U2</td>\n",
       "    </tr>\n",
       "    <tr>\n",
       "      <th>1</th>\n",
       "      <td>CUST00001</td>\n",
       "      <td>UA1045</td>\n",
       "      <td>4</td>\n",
       "      <td>WTORA</td>\n",
       "    </tr>\n",
       "    <tr>\n",
       "      <th>2</th>\n",
       "      <td>CUST00002</td>\n",
       "      <td>UA1645</td>\n",
       "      <td>2</td>\n",
       "      <td>692M1</td>\n",
       "    </tr>\n",
       "    <tr>\n",
       "      <th>3</th>\n",
       "      <td>CUST00003</td>\n",
       "      <td>UA7826</td>\n",
       "      <td>4</td>\n",
       "      <td>UB4XS</td>\n",
       "    </tr>\n",
       "    <tr>\n",
       "      <th>4</th>\n",
       "      <td>CUST00004</td>\n",
       "      <td>UA9616</td>\n",
       "      <td>2</td>\n",
       "      <td>CSHWS</td>\n",
       "    </tr>\n",
       "  </tbody>\n",
       "</table>\n",
       "</div>"
      ],
      "text/plain": [
       "  customer_id flight.iata  n_party conf_code\n",
       "0   CUST00000      UA6192        4     0O0U2\n",
       "1   CUST00001      UA1045        4     WTORA\n",
       "2   CUST00002      UA1645        2     692M1\n",
       "3   CUST00003      UA7826        4     UB4XS\n",
       "4   CUST00004      UA9616        2     CSHWS"
      ]
     },
     "execution_count": 59,
     "metadata": {},
     "output_type": "execute_result"
    }
   ],
   "source": [
    "df.head()"
   ]
  },
  {
   "cell_type": "code",
   "execution_count": 62,
   "metadata": {},
   "outputs": [],
   "source": [
    "df.to_csv('data/bookings.csv')"
   ]
  }
 ],
 "metadata": {
  "kernelspec": {
   "display_name": "base",
   "language": "python",
   "name": "python3"
  },
  "language_info": {
   "codemirror_mode": {
    "name": "ipython",
    "version": 3
   },
   "file_extension": ".py",
   "mimetype": "text/x-python",
   "name": "python",
   "nbconvert_exporter": "python",
   "pygments_lexer": "ipython3",
   "version": "3.12.2"
  }
 },
 "nbformat": 4,
 "nbformat_minor": 2
}
