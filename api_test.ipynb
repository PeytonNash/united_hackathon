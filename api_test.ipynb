{
 "cells": [
  {
   "cell_type": "code",
   "execution_count": 4,
   "metadata": {},
   "outputs": [
    {
     "data": {
      "text/plain": [
       "True"
      ]
     },
     "execution_count": 4,
     "metadata": {},
     "output_type": "execute_result"
    }
   ],
   "source": [
    "from dotenv import load_dotenv\n",
    "\n",
    "load_dotenv()"
   ]
  },
  {
   "cell_type": "code",
   "execution_count": null,
   "metadata": {},
   "outputs": [
    {
     "name": "stdout",
     "output_type": "stream",
     "text": [
      "response:\n",
      "GenerateContentResponse(\n",
      "    done=True,\n",
      "    iterator=None,\n",
      "    result=protos.GenerateContentResponse({\n",
      "      \"candidates\": [\n",
      "        {\n",
      "          \"content\": {\n",
      "            \"parts\": [\n",
      "              {\n",
      "                \"text\": \"Hello there! How can I help you today?\"\n",
      "              }\n",
      "            ],\n",
      "            \"role\": \"model\"\n",
      "          },\n",
      "          \"finish_reason\": \"STOP\",\n",
      "          \"index\": 0\n",
      "        }\n",
      "      ],\n",
      "      \"usage_metadata\": {\n",
      "        \"prompt_token_count\": 3,\n",
      "        \"candidates_token_count\": 10,\n",
      "        \"total_token_count\": 752,\n",
      "        \"prompt_tokens_details\": [\n",
      "          {\n",
      "            \"modality\": \"TEXT\",\n",
      "            \"token_count\": 3\n",
      "          }\n",
      "        ],\n",
      "        \"thoughts_token_count\": 739\n",
      "      },\n",
      "      \"model_version\": \"gemini-2.5-pro\"\n",
      "    }),\n",
      ")\n"
     ]
    }
   ],
   "source": [
    "import os\n",
    "import pytest\n",
    "import google.generativeai as genai\n",
    "from google.api_core.exceptions import PermissionDenied, InvalidArgument\n",
    "\n",
    "def test_gemini_api_key_valid():\n",
    "    key = os.getenv(\"GEMINI_API_KEY\")\n",
    "    assert key is not None, \"GEMINI_API_KEY is not set\"\n",
    "\n",
    "    genai.configure(api_key=key)\n",
    "    model = genai.GenerativeModel(\"gemini-2.5-pro\")\n",
    "\n",
    "    try:\n",
    "        response = model.generate_content(\"Say hello\")\n",
    "        assert \"hello\" in response.text.lower()\n",
    "    except PermissionDenied:\n",
    "        pytest.fail(\"GEMINI_API_KEY is invalid or lacks permission\")\n",
    "    except InvalidArgument as e:\n",
    "        pytest.fail(f\"Gemini call failed due to invalid argument: {e}\")\n",
    "    except Exception as e:\n",
    "        pytest.fail(f\"Unexpected Gemini API error: {e}\")\n",
    "\n",
    "test_gemini_api_key_valid()"
   ]
  }
 ],
 "metadata": {
  "kernelspec": {
   "display_name": "base",
   "language": "python",
   "name": "python3"
  },
  "language_info": {
   "codemirror_mode": {
    "name": "ipython",
    "version": 3
   },
   "file_extension": ".py",
   "mimetype": "text/x-python",
   "name": "python",
   "nbconvert_exporter": "python",
   "pygments_lexer": "ipython3",
   "version": "3.12.2"
  }
 },
 "nbformat": 4,
 "nbformat_minor": 2
}
